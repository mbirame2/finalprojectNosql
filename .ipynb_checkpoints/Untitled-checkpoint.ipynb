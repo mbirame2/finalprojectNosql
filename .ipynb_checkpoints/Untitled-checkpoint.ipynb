{
 "cells": [
  {
   "cell_type": "code",
   "execution_count": 1,
   "id": "c322cb72-233f-445f-911d-a62545c65c9f",
   "metadata": {},
   "outputs": [],
   "source": [
    "import pandas as pd\n",
    "import happybase\n"
   ]
  },
  {
   "cell_type": "code",
   "execution_count": 2,
   "id": "8efc6ff9-3b00-4cb9-b797-cc88cd973382",
   "metadata": {},
   "outputs": [
    {
     "name": "stdout",
     "output_type": "stream",
     "text": [
      "      id                         listing_url       scrape_id last_scraped  \\\n",
      "0  80260  https://www.airbnb.com/rooms/80260  20240610195007   2024-06-13   \n",
      "1   3109   https://www.airbnb.com/rooms/3109  20240610195007   2024-06-12   \n",
      "2  80301  https://www.airbnb.com/rooms/80301  20240610195007   2024-06-13   \n",
      "3   5396   https://www.airbnb.com/rooms/5396  20240610195007   2024-06-13   \n",
      "4   7397   https://www.airbnb.com/rooms/7397  20240610195007   2024-06-13   \n",
      "\n",
      "            source                                          name  \\\n",
      "0  previous scrape             Nice studio in Jourdain's village   \n",
      "1      city scrape                                  zen and calm   \n",
      "2      city scrape                                toits de Paris   \n",
      "3      city scrape  Your perfect Paris studio on Île Saint-Louis   \n",
      "4      city scrape              MARAIS - 2ROOMS APT - 2/4 PEOPLE   \n",
      "\n",
      "                                         description  \\\n",
      "0                                                NaN   \n",
      "1  Lovely Appartment with one bedroom with a Quee...   \n",
      "2  On the top,sharing my space,you have your bedr...   \n",
      "3  NEW SOFA-BED SINCE JUNE 2023, Please disregard...   \n",
      "4          VERY CONVENIENT, WITH THE BEST LOCATION !   \n",
      "\n",
      "                               neighborhood_overview  \\\n",
      "0                                                NaN   \n",
      "1  Good restaurants<br />very close the Montparna...   \n",
      "2  SAFE neighborhood,late bus and subway,velibe(b...   \n",
      "3  You are within walking distance to the Louvre,...   \n",
      "4                                                NaN   \n",
      "\n",
      "                                         picture_url  host_id  ...  \\\n",
      "0  https://a0.muscache.com/pictures/716553/6c14f2...   333548  ...   \n",
      "1  https://a0.muscache.com/pictures/miso/Hosting-...     3631  ...   \n",
      "2  https://a0.muscache.com/pictures/742354/2e66b9...   433758  ...   \n",
      "3  https://a0.muscache.com/pictures/52413/f9bf76f...     7903  ...   \n",
      "4  https://a0.muscache.com/pictures/67928287/330b...     2626  ...   \n",
      "\n",
      "  review_scores_communication review_scores_location review_scores_value  \\\n",
      "0                        4.78                   4.61                4.64   \n",
      "1                        5.00                   5.00                5.00   \n",
      "2                        5.00                   4.95                4.74   \n",
      "3                        4.84                   4.96                4.59   \n",
      "4                        4.89                   4.93                4.73   \n",
      "\n",
      "         license instant_bookable calculated_host_listings_count  \\\n",
      "0  7512005340473                f                              1   \n",
      "1  7511409139079                t                              1   \n",
      "2  7510500029543                f                              2   \n",
      "3  7510402838018                f                              1   \n",
      "4  7510400829623                f                              3   \n",
      "\n",
      "  calculated_host_listings_count_entire_homes  \\\n",
      "0                                           1   \n",
      "1                                           1   \n",
      "2                                           1   \n",
      "3                                           1   \n",
      "4                                           3   \n",
      "\n",
      "  calculated_host_listings_count_private_rooms  \\\n",
      "0                                            0   \n",
      "1                                            0   \n",
      "2                                            1   \n",
      "3                                            0   \n",
      "4                                            0   \n",
      "\n",
      "  calculated_host_listings_count_shared_rooms reviews_per_month  \n",
      "0                                           0              1.29  \n",
      "1                                           0              0.05  \n",
      "2                                           0              0.27  \n",
      "3                                           0              2.21  \n",
      "4                                           0              2.21  \n",
      "\n",
      "[5 rows x 75 columns]\n"
     ]
    }
   ],
   "source": [
    "\n",
    "df = pd.read_csv('../listings_Paris.csv')\n",
    "print(df.head())"
   ]
  },
  {
   "cell_type": "code",
   "execution_count": 3,
   "id": "dc458cd3-f9f5-46f4-b37b-436e81bd2d27",
   "metadata": {},
   "outputs": [
    {
     "name": "stdout",
     "output_type": "stream",
     "text": [
      "   host_id  host_name last_scraped  number_of_reviews  \\\n",
      "0   333548  Charlotte   2024-06-13                206   \n",
      "1     3631       Anne   2024-06-12                  4   \n",
      "2   433758  Genevieve   2024-06-13                 42   \n",
      "3     7903     Borzou   2024-06-13                403   \n",
      "4     2626     Franck   2024-06-13                354   \n",
      "\n",
      "                                   host_url  \\\n",
      "0  https://www.airbnb.com/users/show/333548   \n",
      "1    https://www.airbnb.com/users/show/3631   \n",
      "2  https://www.airbnb.com/users/show/433758   \n",
      "3    https://www.airbnb.com/users/show/7903   \n",
      "4    https://www.airbnb.com/users/show/2626   \n",
      "\n",
      "                                    host_picture_url  host_since  \\\n",
      "0  https://a0.muscache.com/im/users/333548/profil...  2011-01-03   \n",
      "1  https://a0.muscache.com/im/users/3631/profile_...  2008-10-14   \n",
      "2  https://a0.muscache.com/im/users/433758/profil...  2011-03-10   \n",
      "3  https://a0.muscache.com/im/users/7903/profile_...  2009-02-14   \n",
      "4  https://a0.muscache.com/im/pictures/user/ad6a9...  2008-08-30   \n",
      "\n",
      "                                          host_about  host_listings_count  \\\n",
      "0  My name is Charlotte, I'm 26 and I study cinem...                  1.0   \n",
      "1                                                0.0                  1.0   \n",
      "2   Doctorat Sorbonne 1,Litterature sciences huma...                  2.0   \n",
      "3  We have spent a lot of time traveling for work...                  2.0   \n",
      "4  I am a writer,54, author of novels, books of l...                  3.0   \n",
      "\n",
      "   host_total_listings_count  ...  longitude    price minimum_nights  \\\n",
      "0                        1.0  ...    2.38848      0.0              2   \n",
      "1                        2.0  ...    2.31870  $250.00              2   \n",
      "2                        2.0  ...    2.34699   $60.00             30   \n",
      "3                        4.0  ...    2.35835   $96.00              2   \n",
      "4                        9.0  ...    2.35315  $160.00             10   \n",
      "\n",
      "   maximum_nights  minimum_minimum_nights maximum_minimum_nights  \\\n",
      "0             730                       2                      2   \n",
      "1              30                       2                      2   \n",
      "2             190                      30                     30   \n",
      "3            1125                       1                      2   \n",
      "4             130                       7                     12   \n",
      "\n",
      "   minimum_maximum_nights  maximum_maximum_nights  minimum_nights_avg_ntm  \\\n",
      "0                     730                     730                     2.0   \n",
      "1                      30                      30                     2.0   \n",
      "2                     190                     190                    30.0   \n",
      "3                    1125                    1125                     1.0   \n",
      "4                     130                     130                    10.0   \n",
      "\n",
      "   maximum_nights_avg_ntm  \n",
      "0                   730.0  \n",
      "1                    30.0  \n",
      "2                   190.0  \n",
      "3                  1125.0  \n",
      "4                   130.0  \n",
      "\n",
      "[5 rows x 24 columns]\n"
     ]
    }
   ],
   "source": [
    "df = df[['host_id','host_name','last_scraped','number_of_reviews', 'host_url','host_picture_url', 'host_since','host_about', 'host_listings_count','host_total_listings_count', 'bathrooms',\n",
    "         'bedrooms', 'room_type','latitude', 'longitude','price', 'minimum_nights','maximum_nights', 'minimum_minimum_nights','maximum_minimum_nights', \n",
    "         'minimum_maximum_nights','maximum_maximum_nights', 'minimum_nights_avg_ntm','maximum_nights_avg_ntm']]\n",
    "\n",
    "df= df.fillna(0.0)\n",
    "print(df.head())"
   ]
  },
  {
   "cell_type": "markdown",
   "id": "8a143a4e-fdc8-4f95-89e9-c023a023902f",
   "metadata": {},
   "source": [
    "## 🧠 Part : Connect to HBASE\n"
   ]
  },
  {
   "cell_type": "code",
   "execution_count": 4,
   "id": "bcabf351-9dce-4df4-bb4d-799d213b13b9",
   "metadata": {},
   "outputs": [
    {
     "name": "stdout",
     "output_type": "stream",
     "text": [
      "Table listing_rental already exists or error occurred\n"
     ]
    }
   ],
   "source": [
    "HBASE_HOST = 'localhost' \n",
    "TABLE_NAME = 'listing_rental'\n",
    "HBASE_PORT = 9090\n",
    "BATCH_SIZE = 1000\n",
    "\n",
    "connection = happybase.Connection(\n",
    "            host=HBASE_HOST,\n",
    "            port=HBASE_PORT,\n",
    "            timeout=30000,  # 10 seconds timeout\n",
    "            autoconnect=True,\n",
    "            transport='buffered'\n",
    "            )\n",
    "connection.open()\n",
    "\n",
    "try:\n",
    "    connection.create_table(\n",
    "        TABLE_NAME,\n",
    "        {\n",
    "            'host_info': dict(),\n",
    "            'home_rental_listing_info': dict()\n",
    "        },\n",
    "        # Pre-split by area codes (1-20)\n",
    "    )\n",
    "    print(f\"Created table {TABLE_NAME}\")\n",
    "except :\n",
    "    print(f\"Table {TABLE_NAME} already exists or error occurred\")\n",
    "\n",
    "table = connection.table(TABLE_NAME)"
   ]
  },
  {
   "cell_type": "code",
   "execution_count": 5,
   "id": "3a1646e5-5ff4-44a4-a786-adcf6d907d54",
   "metadata": {},
   "outputs": [
    {
     "name": "stdout",
     "output_type": "stream",
     "text": [
      "Data inserted successfully.\n"
     ]
    }
   ],
   "source": [
    "# Function to generate row key (host_id is assumed unique)\n",
    "def make_row_key(row):\n",
    "    return f\"{row['host_id']}_{row.name}\".encode()  # name ensures uniqueness\n",
    "\n",
    "# Insert data in batches\n",
    "batch = table.batch(batch_size=BATCH_SIZE)\n",
    "for idx, row in df.iterrows():\n",
    "    row_key = make_row_key(row)\n",
    "    \n",
    "    data = {\n",
    "        # Host Info\n",
    "        b'host_info:host_id': str(row['host_id']).encode('utf-8'),\n",
    "        b'host_info:host_name': str(row['host_name']).encode('utf-8'),\n",
    "        b'host_info:host_url': str(row['host_url']).encode('utf-8'),\n",
    "        b'host_info:host_picture_url': str(row['host_picture_url']).encode('utf-8'),\n",
    "        b'host_info:host_since': str(row['host_since']).encode('utf-8'),\n",
    "        b'host_info:host_about': str(row['host_about']).encode('utf-8'),\n",
    "        b'host_info:host_listings_count': str(row['host_listings_count']).encode('utf-8'),\n",
    "        b'host_info:host_total_listings_count': str(row['host_total_listings_count']).encode('utf-8'),\n",
    "\n",
    "        # Rental Info\n",
    "        b'home_rental_listing_info:bathrooms': str(row['bathrooms']).encode('utf-8'),\n",
    "        b'home_rental_listing_info:last_scraped': str(row['last_scraped']).encode('utf-8'),\n",
    "        b'home_rental_listing_info:number_of_reviews': str(row['number_of_reviews']).encode('utf-8'),\n",
    "        b'home_rental_listing_info:bedrooms': str(row['bedrooms']).encode('utf-8'),\n",
    "        b'home_rental_listing_info:room_type': str(row['room_type']).encode('utf-8'),\n",
    "        b'home_rental_listing_info:latitude': str(row['latitude']).encode('utf-8'),\n",
    "        b'home_rental_listing_info:longitude': str(row['longitude']).encode('utf-8'),\n",
    "        b'home_rental_listing_info:price': str(row['price']).encode('utf-8'),\n",
    "        b'home_rental_listing_info:minimum_nights': str(row['minimum_nights']).encode('utf-8'),\n",
    "        b'home_rental_listing_info:maximum_nights': str(row['maximum_nights']).encode('utf-8'),\n",
    "        b'home_rental_listing_info:minimum_minimum_nights': str(row['minimum_minimum_nights']).encode('utf-8'),\n",
    "        b'home_rental_listing_info:maximum_minimum_nights': str(row['maximum_minimum_nights']).encode('utf-8'),\n",
    "        b'home_rental_listing_info:minimum_maximum_nights': str(row['minimum_maximum_nights']).encode('utf-8'),\n",
    "        b'home_rental_listing_info:maximum_maximum_nights': str(row['maximum_maximum_nights']).encode('utf-8'),\n",
    "        b'home_rental_listing_info:minimum_nights_avg_ntm': str(row['minimum_nights_avg_ntm']).encode('utf-8'),\n",
    "        b'home_rental_listing_info:maximum_nights_avg_ntm': str(row['maximum_nights_avg_ntm']).encode('utf-8'),\n",
    "    }\n",
    "\n",
    "    batch.put(row_key, data)\n",
    "\n",
    "# Send final batch\n",
    "batch.send()\n",
    "print(\"Data inserted successfully.\")\n"
   ]
  },
  {
   "cell_type": "markdown",
   "id": "f36714cf-d40a-468c-9897-39be081b38d3",
   "metadata": {},
   "source": [
    "## LOAD HBASE DATABASE IN DATAFRAME"
   ]
  },
  {
   "cell_type": "code",
   "execution_count": 6,
   "id": "5fc9f243-fd65-4435-ad55-b4c1f7bd0e93",
   "metadata": {},
   "outputs": [],
   "source": [
    "# Load all rows from HBase\n",
    "table = connection.table(TABLE_NAME)\n",
    "rows = table.scan()\n",
    "records = []\n",
    "for key, data in rows:\n",
    "    row = {k.decode(): v.decode(errors='ignore') for k, v in data.items()}\n",
    "    row['row_key'] = key.decode()\n",
    "    records.append(row)\n",
    "\n",
    "df = pd.DataFrame(records)"
   ]
  },
  {
   "cell_type": "markdown",
   "id": "efb98bfd-c802-4562-af19-e5e72007af07",
   "metadata": {},
   "source": [
    "#  QUERY FOR QUESTIONS"
   ]
  },
  {
   "cell_type": "code",
   "execution_count": 10,
   "id": "a362e058-4c38-4995-ab35-80b470e0b0d9",
   "metadata": {},
   "outputs": [
    {
     "name": "stdout",
     "output_type": "stream",
     "text": [
      "-------------------Listings per property type:-------------------\n",
      "home_rental_listing_info:room_type\n",
      "Entire home/apt    85733\n",
      "Private room        8975\n",
      "Hotel room           776\n",
      "Shared room          401\n",
      "Name: count, dtype: int64\n",
      "-------------------Listings made in Paris on June 12, 2024: 41323 -------------------\n",
      "-------------------Top 5 listings by number of reviews: -------------------\n",
      "               row_key  reviews\n",
      "91521   84901734_14235     3067\n",
      "95178   98020850_20597     2620\n",
      "39746  315206797_29973     2294\n",
      "38335  309707704_29437     2105\n",
      "31680  264483496_25716     2048\n",
      "-------------------Total number of unique hosts: 71979-------------------\n"
     ]
    }
   ],
   "source": [
    "q1 = df['home_rental_listing_info:room_type'].value_counts()\n",
    "print(\"-------------------Listings per property type:-------------------\")\n",
    "print(q1)\n",
    "\n",
    "\n",
    "\n",
    "df['listing_date'] = pd.to_datetime(df['home_rental_listing_info:last_scraped'], errors='coerce')\n",
    "q2 = df[(df['listing_date'] == '2024-06-12')]\n",
    "print(f\"-------------------Listings made in Paris on June 12, 2024: {len(q2)} -------------------\")\n",
    "\n",
    "\n",
    "df['reviews'] = pd.to_numeric(df['home_rental_listing_info:number_of_reviews'], errors='coerce')\n",
    "q3 = df[['row_key', 'reviews']].sort_values(by='reviews', ascending=False).head(5)\n",
    "print(\"-------------------Top 5 listings by number of reviews: -------------------\")\n",
    "print(q3)\n",
    "\n",
    "q4 = df['host_info:host_id'].nunique()\n",
    "print(f\"-------------------Total number of unique hosts: {q4}-------------------\")\n",
    "\n"
   ]
  },
  {
   "cell_type": "code",
   "execution_count": null,
   "id": "c12872ca-3de7-4b5c-b8f6-7d2c6321e13c",
   "metadata": {},
   "outputs": [],
   "source": []
  }
 ],
 "metadata": {
  "kernelspec": {
   "display_name": "Python 3 (ipykernel)",
   "language": "python",
   "name": "python3"
  },
  "language_info": {
   "codemirror_mode": {
    "name": "ipython",
    "version": 3
   },
   "file_extension": ".py",
   "mimetype": "text/x-python",
   "name": "python",
   "nbconvert_exporter": "python",
   "pygments_lexer": "ipython3",
   "version": "3.11.12"
  }
 },
 "nbformat": 4,
 "nbformat_minor": 5
}
